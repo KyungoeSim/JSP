{
 "cells": [
  {
   "cell_type": "code",
   "execution_count": 1,
   "metadata": {},
   "outputs": [],
   "source": [
    "import requests\n",
    "from bs4 import BeautifulSoup as bs\n",
    "\n",
    "url=\"https://www.dhlottery.co.kr/gameResult.do?method=byWin\"\n",
    "txt=requests.get(url)\n",
    "html=bs()"
   ]
  },
  {
   "cell_type": "code",
   "execution_count": 3,
   "metadata": {},
   "outputs": [
    {
     "data": {
      "text/plain": [
       "[]"
      ]
     },
     "execution_count": 3,
     "metadata": {},
     "output_type": "execute_result"
    }
   ],
   "source": [
    "html.select(\"span.ball_645\")"
   ]
  },
  {
   "cell_type": "code",
   "execution_count": 1,
   "metadata": {},
   "outputs": [
    {
     "data": {
      "text/plain": [
       "0"
      ]
     },
     "execution_count": 1,
     "metadata": {},
     "output_type": "execute_result"
    }
   ],
   "source": [
    "import sys\n",
    "from PyQt5.QtWidgets import *\n",
    "from PyQt5 import uic\n",
    "import requests\n",
    "from bs4 import BeautifulSoup as bs\n",
    "\n",
    "form_class = uic.loadUiType(\"lotto.ui\")[0]\n",
    "\n",
    "class MyWindow(QMainWindow, form_class):\n",
    "\n",
    "    def __init__(self):\n",
    "        super().__init__()\n",
    "        self.setupUi(self)\n",
    "        # 단추를 누르면\n",
    "        self.pushButton.clicked.connect(self.btnclicked)\n",
    "\n",
    "\n",
    "    # 조회 후 칸에 출력\n",
    "    def btnclicked(self):\n",
    "        url = \"https://www.dhlottery.co.kr/gameResult.do?method=byWin\"\n",
    "        txt = requests.get(url)\n",
    "        html = bs(txt.text)\n",
    "        lottery = html.select(\"span.ball_645\")\n",
    "        when = html.select(\"p.desc\")[0].text\n",
    "\n",
    "        self.date_label.setText(when)\n",
    "\n",
    "        self.num1.setText(lottery[0].text)    \n",
    "        self.num2.setText(lottery[1].text)  \n",
    "        self.num3.setText(lottery[2].text)   \n",
    "        self.num4.setText(lottery[3].text)   \n",
    "        self.num5.setText(lottery[4].text)   \n",
    "        self.num6.setText(lottery[5].text)    \n",
    "        self.num7.setText(lottery[6].text)  \n",
    "\n",
    "app = QApplication(sys.argv)\n",
    "window = MyWindow()\n",
    "window.show()\n",
    "app.exec_()"
   ]
  },
  {
   "cell_type": "code",
   "execution_count": 2,
   "metadata": {},
   "outputs": [
    {
     "name": "stdout",
     "output_type": "stream",
     "text": [
      "Requirement already satisfied: pyinstaller in c:\\users\\tlaru\\anaconda3\\lib\\site-packages (5.8.0)\n",
      "Requirement already satisfied: setuptools>=42.0.0 in c:\\users\\tlaru\\anaconda3\\lib\\site-packages (from pyinstaller) (63.4.1)\n",
      "Requirement already satisfied: pyinstaller-hooks-contrib>=2021.4 in c:\\users\\tlaru\\anaconda3\\lib\\site-packages (from pyinstaller) (2023.0)\n",
      "Requirement already satisfied: altgraph in c:\\users\\tlaru\\anaconda3\\lib\\site-packages (from pyinstaller) (0.17.3)\n",
      "Requirement already satisfied: pywin32-ctypes>=0.2.0 in c:\\users\\tlaru\\anaconda3\\lib\\site-packages (from pyinstaller) (0.2.0)\n",
      "Requirement already satisfied: pefile>=2022.5.30 in c:\\users\\tlaru\\anaconda3\\lib\\site-packages (from pyinstaller) (2023.2.7)\n"
     ]
    }
   ],
   "source": [
    "!pip install pyinstaller"
   ]
  },
  {
   "cell_type": "code",
   "execution_count": 4,
   "metadata": {},
   "outputs": [
    {
     "name": "stderr",
     "output_type": "stream",
     "text": [
      "The 'pathlib' package is an obsolete backport of a standard library package and is incompatible with PyInstaller. Please remove this package (located in C:\\Users\\tlaru\\anaconda3\\lib\\site-packages) using\n",
      "    conda remove\n",
      "then try again.\n"
     ]
    }
   ],
   "source": [
    "import os\n",
    "\n",
    "os.chdir('C:\\develop\\pythonadv2023\\Crawling\\lotto')\n",
    "\n",
    "!pyinstaller lotto.py"
   ]
  },
  {
   "cell_type": "markdown",
   "metadata": {},
   "source": []
  }
 ],
 "metadata": {
  "kernelspec": {
   "display_name": "base",
   "language": "python",
   "name": "python3"
  },
  "language_info": {
   "codemirror_mode": {
    "name": "ipython",
    "version": 3
   },
   "file_extension": ".py",
   "mimetype": "text/x-python",
   "name": "python",
   "nbconvert_exporter": "python",
   "pygments_lexer": "ipython3",
   "version": "3.9.13"
  },
  "orig_nbformat": 4
 },
 "nbformat": 4,
 "nbformat_minor": 2
}
